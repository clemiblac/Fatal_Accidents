{
 "cells": [
  {
   "cell_type": "code",
   "execution_count": 65,
   "metadata": {},
   "outputs": [],
   "source": [
    "import json\n",
    "import pandas as pd\n",
    "%matplotlib inline\n",
    "import matplotlib.pyplot as plt\n",
    "import numpy as np\n",
    "import sklearn\n",
    "import tensorflow"
   ]
  },
  {
   "cell_type": "code",
   "execution_count": 66,
   "metadata": {},
   "outputs": [],
   "source": [
    "with open('static/js/fatal_accidents.json') as f:\n",
    "  data = json.load(f)\n",
    "\n"
   ]
  },
  {
   "cell_type": "code",
   "execution_count": 67,
   "metadata": {},
   "outputs": [],
   "source": [
    "df = pd.DataFrame.from_dict(data, orient='columns')"
   ]
  },
  {
   "cell_type": "code",
   "execution_count": 68,
   "metadata": {},
   "outputs": [
    {
     "data": {
      "text/html": [
       "<div>\n",
       "<style scoped>\n",
       "    .dataframe tbody tr th:only-of-type {\n",
       "        vertical-align: middle;\n",
       "    }\n",
       "\n",
       "    .dataframe tbody tr th {\n",
       "        vertical-align: top;\n",
       "    }\n",
       "\n",
       "    .dataframe thead th {\n",
       "        text-align: right;\n",
       "    }\n",
       "</style>\n",
       "<table border=\"1\" class=\"dataframe\">\n",
       "  <thead>\n",
       "    <tr style=\"text-align: right;\">\n",
       "      <th></th>\n",
       "      <th>ST_CASE</th>\n",
       "      <th>STATE</th>\n",
       "      <th>STATE_NAME</th>\n",
       "      <th>PERMVIT</th>\n",
       "      <th>DAY</th>\n",
       "      <th>MONTH</th>\n",
       "      <th>YEAR</th>\n",
       "      <th>DAY_WEEK</th>\n",
       "      <th>HOUR</th>\n",
       "      <th>RUR_URB</th>\n",
       "      <th>...</th>\n",
       "      <th>LONGITUD</th>\n",
       "      <th>LGT_COND</th>\n",
       "      <th>LGT_CONDITIONS</th>\n",
       "      <th>WEATHER</th>\n",
       "      <th>WEATHER_COND</th>\n",
       "      <th>FATALS</th>\n",
       "      <th>DEATHS</th>\n",
       "      <th>PER_NO</th>\n",
       "      <th>AGE</th>\n",
       "      <th>SEX</th>\n",
       "    </tr>\n",
       "  </thead>\n",
       "  <tbody>\n",
       "    <tr>\n",
       "      <th>0</th>\n",
       "      <td>10001</td>\n",
       "      <td>1</td>\n",
       "      <td>Alabama</td>\n",
       "      <td>1</td>\n",
       "      <td>5</td>\n",
       "      <td>1</td>\n",
       "      <td>2018</td>\n",
       "      <td>6</td>\n",
       "      <td>6</td>\n",
       "      <td>1</td>\n",
       "      <td>...</td>\n",
       "      <td>-86.131869</td>\n",
       "      <td>4</td>\n",
       "      <td>Dawn</td>\n",
       "      <td>1</td>\n",
       "      <td>Clear</td>\n",
       "      <td>1</td>\n",
       "      <td>1</td>\n",
       "      <td>1</td>\n",
       "      <td>55</td>\n",
       "      <td>1</td>\n",
       "    </tr>\n",
       "    <tr>\n",
       "      <th>1</th>\n",
       "      <td>10002</td>\n",
       "      <td>1</td>\n",
       "      <td>Alabama</td>\n",
       "      <td>2</td>\n",
       "      <td>8</td>\n",
       "      <td>1</td>\n",
       "      <td>2018</td>\n",
       "      <td>2</td>\n",
       "      <td>0</td>\n",
       "      <td>2</td>\n",
       "      <td>...</td>\n",
       "      <td>-87.289847</td>\n",
       "      <td>2</td>\n",
       "      <td>Dark – Not Lighted</td>\n",
       "      <td>2</td>\n",
       "      <td>Rain</td>\n",
       "      <td>2</td>\n",
       "      <td>2</td>\n",
       "      <td>1</td>\n",
       "      <td>24</td>\n",
       "      <td>1</td>\n",
       "    </tr>\n",
       "    <tr>\n",
       "      <th>2</th>\n",
       "      <td>10002</td>\n",
       "      <td>1</td>\n",
       "      <td>Alabama</td>\n",
       "      <td>2</td>\n",
       "      <td>8</td>\n",
       "      <td>1</td>\n",
       "      <td>2018</td>\n",
       "      <td>2</td>\n",
       "      <td>0</td>\n",
       "      <td>2</td>\n",
       "      <td>...</td>\n",
       "      <td>-87.289847</td>\n",
       "      <td>2</td>\n",
       "      <td>Dark – Not Lighted</td>\n",
       "      <td>2</td>\n",
       "      <td>Rain</td>\n",
       "      <td>2</td>\n",
       "      <td>2</td>\n",
       "      <td>2</td>\n",
       "      <td>24</td>\n",
       "      <td>1</td>\n",
       "    </tr>\n",
       "    <tr>\n",
       "      <th>3</th>\n",
       "      <td>10003</td>\n",
       "      <td>1</td>\n",
       "      <td>Alabama</td>\n",
       "      <td>2</td>\n",
       "      <td>8</td>\n",
       "      <td>1</td>\n",
       "      <td>2018</td>\n",
       "      <td>2</td>\n",
       "      <td>22</td>\n",
       "      <td>1</td>\n",
       "      <td>...</td>\n",
       "      <td>-86.564036</td>\n",
       "      <td>2</td>\n",
       "      <td>Dark – Not Lighted</td>\n",
       "      <td>10</td>\n",
       "      <td>Cloudy</td>\n",
       "      <td>1</td>\n",
       "      <td>1</td>\n",
       "      <td>1</td>\n",
       "      <td>37</td>\n",
       "      <td>2</td>\n",
       "    </tr>\n",
       "    <tr>\n",
       "      <th>4</th>\n",
       "      <td>10003</td>\n",
       "      <td>1</td>\n",
       "      <td>Alabama</td>\n",
       "      <td>2</td>\n",
       "      <td>8</td>\n",
       "      <td>1</td>\n",
       "      <td>2018</td>\n",
       "      <td>2</td>\n",
       "      <td>22</td>\n",
       "      <td>1</td>\n",
       "      <td>...</td>\n",
       "      <td>-86.564036</td>\n",
       "      <td>2</td>\n",
       "      <td>Dark – Not Lighted</td>\n",
       "      <td>10</td>\n",
       "      <td>Cloudy</td>\n",
       "      <td>1</td>\n",
       "      <td>1</td>\n",
       "      <td>1</td>\n",
       "      <td>36</td>\n",
       "      <td>1</td>\n",
       "    </tr>\n",
       "    <tr>\n",
       "      <th>...</th>\n",
       "      <td>...</td>\n",
       "      <td>...</td>\n",
       "      <td>...</td>\n",
       "      <td>...</td>\n",
       "      <td>...</td>\n",
       "      <td>...</td>\n",
       "      <td>...</td>\n",
       "      <td>...</td>\n",
       "      <td>...</td>\n",
       "      <td>...</td>\n",
       "      <td>...</td>\n",
       "      <td>...</td>\n",
       "      <td>...</td>\n",
       "      <td>...</td>\n",
       "      <td>...</td>\n",
       "      <td>...</td>\n",
       "      <td>...</td>\n",
       "      <td>...</td>\n",
       "      <td>...</td>\n",
       "      <td>...</td>\n",
       "      <td>...</td>\n",
       "    </tr>\n",
       "    <tr>\n",
       "      <th>156630</th>\n",
       "      <td>560100</td>\n",
       "      <td>56</td>\n",
       "      <td>Wyoming</td>\n",
       "      <td>2</td>\n",
       "      <td>22</td>\n",
       "      <td>10</td>\n",
       "      <td>2018</td>\n",
       "      <td>2</td>\n",
       "      <td>13</td>\n",
       "      <td>1</td>\n",
       "      <td>...</td>\n",
       "      <td>-108.455147</td>\n",
       "      <td>1</td>\n",
       "      <td>Daylight</td>\n",
       "      <td>1</td>\n",
       "      <td>Clear</td>\n",
       "      <td>1</td>\n",
       "      <td>1</td>\n",
       "      <td>2</td>\n",
       "      <td>36</td>\n",
       "      <td>1</td>\n",
       "    </tr>\n",
       "    <tr>\n",
       "      <th>156631</th>\n",
       "      <td>560101</td>\n",
       "      <td>56</td>\n",
       "      <td>Wyoming</td>\n",
       "      <td>2</td>\n",
       "      <td>9</td>\n",
       "      <td>11</td>\n",
       "      <td>2018</td>\n",
       "      <td>6</td>\n",
       "      <td>18</td>\n",
       "      <td>1</td>\n",
       "      <td>...</td>\n",
       "      <td>-108.528031</td>\n",
       "      <td>5</td>\n",
       "      <td>Dusk</td>\n",
       "      <td>1</td>\n",
       "      <td>Clear</td>\n",
       "      <td>1</td>\n",
       "      <td>1</td>\n",
       "      <td>1</td>\n",
       "      <td>40</td>\n",
       "      <td>1</td>\n",
       "    </tr>\n",
       "    <tr>\n",
       "      <th>156632</th>\n",
       "      <td>560101</td>\n",
       "      <td>56</td>\n",
       "      <td>Wyoming</td>\n",
       "      <td>2</td>\n",
       "      <td>9</td>\n",
       "      <td>11</td>\n",
       "      <td>2018</td>\n",
       "      <td>6</td>\n",
       "      <td>18</td>\n",
       "      <td>1</td>\n",
       "      <td>...</td>\n",
       "      <td>-108.528031</td>\n",
       "      <td>5</td>\n",
       "      <td>Dusk</td>\n",
       "      <td>1</td>\n",
       "      <td>Clear</td>\n",
       "      <td>1</td>\n",
       "      <td>1</td>\n",
       "      <td>1</td>\n",
       "      <td>66</td>\n",
       "      <td>1</td>\n",
       "    </tr>\n",
       "    <tr>\n",
       "      <th>156633</th>\n",
       "      <td>560101</td>\n",
       "      <td>56</td>\n",
       "      <td>Wyoming</td>\n",
       "      <td>2</td>\n",
       "      <td>9</td>\n",
       "      <td>11</td>\n",
       "      <td>2018</td>\n",
       "      <td>6</td>\n",
       "      <td>18</td>\n",
       "      <td>1</td>\n",
       "      <td>...</td>\n",
       "      <td>-108.528031</td>\n",
       "      <td>5</td>\n",
       "      <td>Dusk</td>\n",
       "      <td>1</td>\n",
       "      <td>Clear</td>\n",
       "      <td>1</td>\n",
       "      <td>0</td>\n",
       "      <td>1</td>\n",
       "      <td>40</td>\n",
       "      <td>1</td>\n",
       "    </tr>\n",
       "    <tr>\n",
       "      <th>156634</th>\n",
       "      <td>560101</td>\n",
       "      <td>56</td>\n",
       "      <td>Wyoming</td>\n",
       "      <td>2</td>\n",
       "      <td>9</td>\n",
       "      <td>11</td>\n",
       "      <td>2018</td>\n",
       "      <td>6</td>\n",
       "      <td>18</td>\n",
       "      <td>1</td>\n",
       "      <td>...</td>\n",
       "      <td>-108.528031</td>\n",
       "      <td>5</td>\n",
       "      <td>Dusk</td>\n",
       "      <td>1</td>\n",
       "      <td>Clear</td>\n",
       "      <td>1</td>\n",
       "      <td>0</td>\n",
       "      <td>1</td>\n",
       "      <td>66</td>\n",
       "      <td>1</td>\n",
       "    </tr>\n",
       "  </tbody>\n",
       "</table>\n",
       "<p>156635 rows × 24 columns</p>\n",
       "</div>"
      ],
      "text/plain": [
       "        ST_CASE  STATE STATE_NAME  PERMVIT  DAY  MONTH  YEAR  DAY_WEEK  HOUR  \\\n",
       "0         10001      1    Alabama        1    5      1  2018         6     6   \n",
       "1         10002      1    Alabama        2    8      1  2018         2     0   \n",
       "2         10002      1    Alabama        2    8      1  2018         2     0   \n",
       "3         10003      1    Alabama        2    8      1  2018         2    22   \n",
       "4         10003      1    Alabama        2    8      1  2018         2    22   \n",
       "...         ...    ...        ...      ...  ...    ...   ...       ...   ...   \n",
       "156630   560100     56    Wyoming        2   22     10  2018         2    13   \n",
       "156631   560101     56    Wyoming        2    9     11  2018         6    18   \n",
       "156632   560101     56    Wyoming        2    9     11  2018         6    18   \n",
       "156633   560101     56    Wyoming        2    9     11  2018         6    18   \n",
       "156634   560101     56    Wyoming        2    9     11  2018         6    18   \n",
       "\n",
       "        RUR_URB  ...    LONGITUD  LGT_COND      LGT_CONDITIONS  WEATHER  \\\n",
       "0             1  ...  -86.131869         4                Dawn        1   \n",
       "1             2  ...  -87.289847         2  Dark – Not Lighted        2   \n",
       "2             2  ...  -87.289847         2  Dark – Not Lighted        2   \n",
       "3             1  ...  -86.564036         2  Dark – Not Lighted       10   \n",
       "4             1  ...  -86.564036         2  Dark – Not Lighted       10   \n",
       "...         ...  ...         ...       ...                 ...      ...   \n",
       "156630        1  ... -108.455147         1            Daylight        1   \n",
       "156631        1  ... -108.528031         5                Dusk        1   \n",
       "156632        1  ... -108.528031         5                Dusk        1   \n",
       "156633        1  ... -108.528031         5                Dusk        1   \n",
       "156634        1  ... -108.528031         5                Dusk        1   \n",
       "\n",
       "        WEATHER_COND  FATALS DEATHS  PER_NO AGE  SEX  \n",
       "0              Clear       1      1       1  55    1  \n",
       "1               Rain       2      2       1  24    1  \n",
       "2               Rain       2      2       2  24    1  \n",
       "3             Cloudy       1      1       1  37    2  \n",
       "4             Cloudy       1      1       1  36    1  \n",
       "...              ...     ...    ...     ...  ..  ...  \n",
       "156630         Clear       1      1       2  36    1  \n",
       "156631         Clear       1      1       1  40    1  \n",
       "156632         Clear       1      1       1  66    1  \n",
       "156633         Clear       1      0       1  40    1  \n",
       "156634         Clear       1      0       1  66    1  \n",
       "\n",
       "[156635 rows x 24 columns]"
      ]
     },
     "execution_count": 68,
     "metadata": {},
     "output_type": "execute_result"
    }
   ],
   "source": [
    "df"
   ]
  },
  {
   "cell_type": "code",
   "execution_count": 69,
   "metadata": {},
   "outputs": [
    {
     "data": {
      "text/plain": [
       "Index(['ST_CASE', 'STATE', 'STATE_NAME', 'PERMVIT', 'DAY', 'MONTH', 'YEAR',\n",
       "       'DAY_WEEK', 'HOUR', 'RUR_URB', 'RUR_URB_NAME', 'ROUTE', 'ROUTE_NAME',\n",
       "       'LATITUDE', 'LONGITUD', 'LGT_COND', 'LGT_CONDITIONS', 'WEATHER',\n",
       "       'WEATHER_COND', 'FATALS', 'DEATHS', 'PER_NO', 'AGE', 'SEX'],\n",
       "      dtype='object')"
      ]
     },
     "execution_count": 69,
     "metadata": {},
     "output_type": "execute_result"
    }
   ],
   "source": [
    "df.columns"
   ]
  },
  {
   "cell_type": "code",
   "execution_count": 70,
   "metadata": {},
   "outputs": [],
   "source": [
    "traning_data=df[['STATE_NAME','RUR_URB','ROUTE','LGT_COND','WEATHER']]"
   ]
  },
  {
   "cell_type": "code",
   "execution_count": 71,
   "metadata": {},
   "outputs": [
    {
     "name": "stdout",
     "output_type": "stream",
     "text": [
      "(156635, 4) (156635,)\n"
     ]
    }
   ],
   "source": [
    "X = traning_data.drop('STATE_NAME', axis=1)\n",
    "y = traning_data['STATE_NAME']\n",
    "print(X.shape, y.shape)"
   ]
  },
  {
   "cell_type": "code",
   "execution_count": 72,
   "metadata": {},
   "outputs": [],
   "source": [
    "from sklearn.model_selection import train_test_split\n",
    "X_train, X_test, y_train, y_test = train_test_split(X, y)"
   ]
  },
  {
   "cell_type": "code",
   "execution_count": 73,
   "metadata": {},
   "outputs": [],
   "source": [
    "from sklearn.preprocessing import StandardScaler\n",
    "scaler = StandardScaler()\n",
    "# Fit only to the training data\n",
    "scaler.fit(X_train)\n",
    "StandardScaler(copy=True, with_mean=True, with_std=True)\n",
    "# Now apply the transformations to the data:\n",
    "X_train = scaler.transform(X_train)\n",
    "X_test = scaler.transform(X_test)"
   ]
  },
  {
   "cell_type": "code",
   "execution_count": 74,
   "metadata": {},
   "outputs": [],
   "source": [
    "#Training the Model"
   ]
  },
  {
   "cell_type": "code",
   "execution_count": 75,
   "metadata": {},
   "outputs": [],
   "source": [
    "from sklearn.neural_network import MLPClassifier"
   ]
  },
  {
   "cell_type": "code",
   "execution_count": 76,
   "metadata": {},
   "outputs": [],
   "source": [
    "mlp = MLPClassifier(random_state=1,max_iter=500)"
   ]
  },
  {
   "cell_type": "code",
   "execution_count": 77,
   "metadata": {},
   "outputs": [
    {
     "data": {
      "text/plain": [
       "MLPClassifier(max_iter=500, random_state=1)"
      ]
     },
     "execution_count": 77,
     "metadata": {},
     "output_type": "execute_result"
    }
   ],
   "source": [
    "mlp.fit(X_train,y_train)"
   ]
  },
  {
   "cell_type": "code",
   "execution_count": 78,
   "metadata": {},
   "outputs": [],
   "source": [
    "#Predictions"
   ]
  },
  {
   "cell_type": "code",
   "execution_count": 79,
   "metadata": {},
   "outputs": [],
   "source": [
    "predictions = mlp.predict(X_test)"
   ]
  },
  {
   "cell_type": "code",
   "execution_count": 80,
   "metadata": {},
   "outputs": [
    {
     "data": {
      "text/plain": [
       "array(['Georgia', 'Texas', 'Michigan', 'Georgia', 'California'],\n",
       "      dtype='<U20')"
      ]
     },
     "execution_count": 80,
     "metadata": {},
     "output_type": "execute_result"
    }
   ],
   "source": [
    "mlp.predict(X_test[:5, :])"
   ]
  },
  {
   "cell_type": "code",
   "execution_count": 82,
   "metadata": {},
   "outputs": [
    {
     "data": {
      "text/plain": [
       "0.2402257463163002"
      ]
     },
     "execution_count": 82,
     "metadata": {},
     "output_type": "execute_result"
    }
   ],
   "source": [
    "mlp.score(X_test, y_test)"
   ]
  },
  {
   "cell_type": "code",
   "execution_count": 83,
   "metadata": {},
   "outputs": [],
   "source": [
    "from sklearn.metrics import classification_report,confusion_matrix"
   ]
  },
  {
   "cell_type": "code",
   "execution_count": null,
   "metadata": {},
   "outputs": [],
   "source": []
  },
  {
   "cell_type": "code",
   "execution_count": 85,
   "metadata": {},
   "outputs": [
    {
     "name": "stderr",
     "output_type": "stream",
     "text": [
      "C:\\Users\\clemi\\anaconda3\\lib\\site-packages\\sklearn\\metrics\\_classification.py:1221: UndefinedMetricWarning: Precision and F-score are ill-defined and being set to 0.0 in labels with no predicted samples. Use `zero_division` parameter to control this behavior.\n",
      "  _warn_prf(average, modifier, msg_start, len(result))\n"
     ]
    },
    {
     "name": "stdout",
     "output_type": "stream",
     "text": [
      "                      precision    recall  f1-score   support\n",
      "\n",
      "             Alabama       0.00      0.00      0.00       905\n",
      "              Alaska       0.00      0.00      0.00        84\n",
      "             Arizona       0.78      0.06      0.12      1135\n",
      "            Arkansas       0.57      0.06      0.10       557\n",
      "          California       0.30      0.66      0.42      3953\n",
      "            Colorado       0.40      0.31      0.35       678\n",
      "         Connecticut       0.00      0.00      0.00       283\n",
      "            Delaware       0.00      0.00      0.00       120\n",
      "District of Columbia       0.00      0.00      0.00        31\n",
      "             Florida       0.27      0.49      0.34      3420\n",
      "             Georgia       0.15      0.10      0.12      1636\n",
      "              Hawaii       0.00      0.00      0.00       108\n",
      "               Idaho       0.17      0.05      0.08       248\n",
      "            Illinois       0.18      0.02      0.03      1174\n",
      "             Indiana       0.10      0.02      0.04       880\n",
      "                Iowa       0.38      0.15      0.21       359\n",
      "              Kansas       0.71      0.18      0.29       394\n",
      "            Kentucky       0.00      0.00      0.00       762\n",
      "           Louisiana       0.00      0.00      0.00       890\n",
      "               Maine       0.00      0.00      0.00       116\n",
      "            Maryland       0.00      0.00      0.00       590\n",
      "       Massachusetts       1.00      0.01      0.01       321\n",
      "            Michigan       0.11      0.12      0.12      1108\n",
      "           Minnesota       0.00      0.00      0.00       376\n",
      "         Mississippi       0.40      0.00      0.01       620\n",
      "            Missouri       0.02      0.00      0.01      1072\n",
      "             Montana       0.00      0.00      0.00       115\n",
      "            Nebraska       0.75      0.59      0.66       513\n",
      "              Nevada       0.00      0.00      0.00       328\n",
      "       New Hampshire       0.00      0.00      0.00       109\n",
      "          New Jersey       0.40      0.03      0.06       594\n",
      "          New Mexico       0.60      0.01      0.01       477\n",
      "            New York       0.33      0.15      0.20       905\n",
      "      North Carolina       0.40      0.03      0.06      1528\n",
      "        North Dakota       0.00      0.00      0.00       106\n",
      "                Ohio       0.11      0.08      0.09      1164\n",
      "            Oklahoma       0.33      0.00      0.01       720\n",
      "              Oregon       0.29      0.09      0.13       493\n",
      "        Pennsylvania       0.40      0.60      0.48      1304\n",
      "        Rhode Island       0.00      0.00      0.00        46\n",
      "      South Carolina       0.25      0.06      0.10      1021\n",
      "        South Dakota       0.00      0.00      0.00       101\n",
      "           Tennessee       0.00      0.00      0.00      1131\n",
      "               Texas       0.16      0.61      0.26      4055\n",
      "                Utah       0.00      0.00      0.00       322\n",
      "             Vermont       0.00      0.00      0.00        59\n",
      "            Virginia       0.39      0.46      0.42       759\n",
      "          Washington       0.00      0.00      0.00       565\n",
      "       West Virginia       0.09      0.09      0.09       323\n",
      "           Wisconsin       0.00      0.00      0.00       518\n",
      "             Wyoming       0.00      0.00      0.00        83\n",
      "\n",
      "            accuracy                           0.24     39159\n",
      "           macro avg       0.20      0.10      0.09     39159\n",
      "        weighted avg       0.24      0.24      0.17     39159\n",
      "\n"
     ]
    }
   ],
   "source": [
    "print(classification_report(y_test,predictions))"
   ]
  },
  {
   "cell_type": "code",
   "execution_count": null,
   "metadata": {},
   "outputs": [],
   "source": []
  }
 ],
 "metadata": {
  "kernelspec": {
   "display_name": "Python 3",
   "language": "python",
   "name": "python3"
  },
  "language_info": {
   "codemirror_mode": {
    "name": "ipython",
    "version": 3
   },
   "file_extension": ".py",
   "mimetype": "text/x-python",
   "name": "python",
   "nbconvert_exporter": "python",
   "pygments_lexer": "ipython3",
   "version": "3.8.3"
  }
 },
 "nbformat": 4,
 "nbformat_minor": 4
}
